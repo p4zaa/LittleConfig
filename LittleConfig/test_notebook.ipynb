{
 "cells": [
  {
   "cell_type": "code",
   "execution_count": 1,
   "metadata": {},
   "outputs": [],
   "source": [
    "from pathlib import Path\n",
    "from LittleConfig import LittleConfig\n",
    "from datetime import datetime\n",
    "import yaml"
   ]
  },
  {
   "cell_type": "code",
   "execution_count": 2,
   "metadata": {},
   "outputs": [
    {
     "data": {
      "text/plain": [
       "LittleConfig.LittleConfig"
      ]
     },
     "execution_count": 2,
     "metadata": {},
     "output_type": "execute_result"
    }
   ],
   "source": [
    "LittleConfig"
   ]
  },
  {
   "cell_type": "code",
   "execution_count": 4,
   "metadata": {},
   "outputs": [],
   "source": [
    "init_path = '/Users/pa/Documents/GitHub Repository Clone/LittleConfig/LittleConfig/test'\n",
    "config_path = '/Users/pa/Documents/GitHub Repository Clone/LittleConfig/LittleConfig/test/configs'\n",
    "#nit_path = r'C:\\Users\\patom\\OneDrive\\Documents\\Repo\\LittleConfig\\LittleConfig\\test'\n",
    "#config_path = r'C:\\Users\\patom\\OneDrive\\Documents\\Repo\\LittleConfig\\LittleConfig\\test\\configs'\n",
    "overrides = {'version': 'test1_GGEZ',\n",
    "             'transfer': {\n",
    "                 'from_pretrained_path': 'path/to/pretrained'\n",
    "             }}\n",
    "partial_overrides = {\n",
    "    'parameters': {\n",
    "        'epochs': 100,\n",
    "        'patience': 1112,\n",
    "    },\n",
    "    'owo': 'ggez'\n",
    "}\n",
    "config_manager = LittleConfig(initial_path=init_path,\n",
    "                      config_path=config_path,\n",
    "                      config_name='test-static-file1',\n",
    "                      overrides=overrides,\n",
    "                      partial_overrides=partial_overrides)"
   ]
  },
  {
   "cell_type": "code",
   "execution_count": 5,
   "metadata": {},
   "outputs": [],
   "source": [
    "config = config_manager.config"
   ]
  },
  {
   "cell_type": "code",
   "execution_count": 12,
   "metadata": {},
   "outputs": [
    {
     "data": {
      "text/plain": [
       "'path/to/pretrained'"
      ]
     },
     "execution_count": 12,
     "metadata": {},
     "output_type": "execute_result"
    }
   ],
   "source": [
    "config.transfer.from_pretrained_path"
   ]
  },
  {
   "cell_type": "code",
   "execution_count": 6,
   "metadata": {},
   "outputs": [
    {
     "data": {
      "text/plain": [
       "{'_version_': 0.0,\n",
       " 'versioning_config': {'prefix': 'prefix_',\n",
       "  'suffix': '_suffix',\n",
       "  'backup_version_config': True,\n",
       "  'version_config_path': 'C:/Users/patom/OneDrive/Documents/Repo/LittleConfig/LittleConfig/test/version-configs'},\n",
       " 'project_config': {'name': 'ml-test1',\n",
       "  'path': 'C:/Users/patom/OneDrive/Documents/Repo/LittleConfig/LittleConfig/test/projects'},\n",
       " 'mode': 'train',\n",
       " 'method': 'memory-replay',\n",
       " 'data_config': {'feature_columns': 'text'},\n",
       " 'model': {'model_name': 'airesearch/wangchanberta-base-att-spm-uncased',\n",
       "  'tokenizer': {'_class': 'AutoTokenizer',\n",
       "   'pretrain': 'airesearch/wangchanberta-base-att-spm-uncased'},\n",
       "  'input_ids': True,\n",
       "  'token_type': False,\n",
       "  'attention_masks': True},\n",
       " 'labels': ['label1',\n",
       "  'label2',\n",
       "  'label3',\n",
       "  'label4',\n",
       "  'label5',\n",
       "  'label6',\n",
       "  'label7',\n",
       "  'label8'],\n",
       " 'memory_replay': {'train_path': 'LittleConfig/test/memory_buffer/test1/train-datasets',\n",
       "  'test_path': 'LittleConfig/test/memory_buffer/test1/test-datasets'},\n",
       " 'parameters': {'epochs': 100,\n",
       "  'patience': 1112,\n",
       "  'batch_size': 64,\n",
       "  'val_size': 0.2,\n",
       "  'test_size': 0.1,\n",
       "  'lr': '2e-5',\n",
       "  'weight_decay_rate_0': 0.01,\n",
       "  'weight_decay_rate_1': 0.0,\n",
       "  'max_length': 100,\n",
       "  'random_state': 888},\n",
       " 'version': 'test1_GGEZ',\n",
       " 'owo': 'ggez'}"
      ]
     },
     "execution_count": 6,
     "metadata": {},
     "output_type": "execute_result"
    }
   ],
   "source": [
    "config.to_dict()"
   ]
  },
  {
   "cell_type": "code",
   "execution_count": 7,
   "metadata": {},
   "outputs": [
    {
     "data": {
      "text/plain": [
       "LittleConfig.Config"
      ]
     },
     "execution_count": 7,
     "metadata": {},
     "output_type": "execute_result"
    }
   ],
   "source": [
    "type(config.versioning_config)"
   ]
  },
  {
   "cell_type": "code",
   "execution_count": 8,
   "metadata": {},
   "outputs": [
    {
     "data": {
      "text/plain": [
       "['label1',\n",
       " 'label2',\n",
       " 'label3',\n",
       " 'label4',\n",
       " 'label5',\n",
       " 'label6',\n",
       " 'label7',\n",
       " 'label8']"
      ]
     },
     "execution_count": 8,
     "metadata": {},
     "output_type": "execute_result"
    }
   ],
   "source": [
    "config.labels"
   ]
  },
  {
   "cell_type": "code",
   "execution_count": 9,
   "metadata": {},
   "outputs": [
    {
     "data": {
      "text/plain": [
       "{'epochs': 100, 'patience': 1112, 'batch_size': 64, 'val_size': 0.2, 'test_size': 0.1, 'lr': '2e-5', 'weight_decay_rate_0': 0.01, 'weight_decay_rate_1': 0.0, 'max_length': 100, 'random_state': 888}"
      ]
     },
     "execution_count": 9,
     "metadata": {},
     "output_type": "execute_result"
    }
   ],
   "source": [
    "config.parameters"
   ]
  },
  {
   "cell_type": "code",
   "execution_count": 11,
   "metadata": {},
   "outputs": [
    {
     "data": {
      "text/plain": [
       "'ggez'"
      ]
     },
     "execution_count": 11,
     "metadata": {},
     "output_type": "execute_result"
    }
   ],
   "source": [
    "config.get('parameter', 'ggez')"
   ]
  },
  {
   "cell_type": "code",
   "execution_count": 8,
   "metadata": {},
   "outputs": [
    {
     "data": {
      "text/plain": [
       "100"
      ]
     },
     "execution_count": 8,
     "metadata": {},
     "output_type": "execute_result"
    }
   ],
   "source": [
    "config.parameters.epochs"
   ]
  },
  {
   "cell_type": "code",
   "execution_count": 9,
   "metadata": {},
   "outputs": [
    {
     "data": {
      "text/plain": [
       "'ggez'"
      ]
     },
     "execution_count": 9,
     "metadata": {},
     "output_type": "execute_result"
    }
   ],
   "source": [
    "config.owo"
   ]
  },
  {
   "cell_type": "code",
   "execution_count": 10,
   "metadata": {},
   "outputs": [],
   "source": [
    "def versioning(config):\n",
    "    prefix = config.versioning_config.prefix\n",
    "    prefix = prefix if prefix else ''\n",
    "    suffix = config.versioning_config.suffix\n",
    "    suffix = suffix if suffix else ''\n",
    "    version_number = config._version_\n",
    "    return f'{prefix}{version_number}{suffix}'"
   ]
  },
  {
   "cell_type": "code",
   "execution_count": 11,
   "metadata": {},
   "outputs": [
    {
     "data": {
      "text/plain": [
       "'prefix_0.0_suffix'"
      ]
     },
     "execution_count": 11,
     "metadata": {},
     "output_type": "execute_result"
    }
   ],
   "source": [
    "versioning(config)"
   ]
  },
  {
   "cell_type": "code",
   "execution_count": 24,
   "metadata": {},
   "outputs": [],
   "source": [
    "def project_version_path(config):\n",
    "    project_name = config.project_config.name\n",
    "    project_path = config.project_config.path\n",
    "    return Path(f'{project_path}/{project_name}/')"
   ]
  },
  {
   "cell_type": "code",
   "execution_count": 25,
   "metadata": {},
   "outputs": [],
   "source": [
    "train_paths = [\n",
    "'LittleConfig\\test\\memory_buffer\\test1\\train-datasets\\file1.csv',\n",
    "'LittleConfig\\test\\memory_buffer\\test1\\train-datasets\\file2.csv',\n",
    "'LittleConfig\\test\\memory_buffer\\test1\\train-datasets\\file3.csv',\n",
    "]\n",
    "\n",
    "test_paths = [\n",
    "'LittleConfig\\test\\memory_buffer\\test1\\test-datasets\\file1.csv',\n",
    "'LittleConfig\\test\\memory_buffer\\test1\\test-datasets\\file2.csv',\n",
    "]\n",
    "\n",
    "validation_paths = None"
   ]
  },
  {
   "cell_type": "code",
   "execution_count": 26,
   "metadata": {},
   "outputs": [
    {
     "data": {
      "text/plain": [
       "WindowsPath('C:/Users/patom/OneDrive/Documents/Repo/LittleConfig/LittleConfig/test/projects/ml-test1')"
      ]
     },
     "execution_count": 26,
     "metadata": {},
     "output_type": "execute_result"
    }
   ],
   "source": [
    "project_version_path(config)"
   ]
  },
  {
   "cell_type": "code",
   "execution_count": 27,
   "metadata": {},
   "outputs": [],
   "source": [
    "def extract_version_config_data(config):\n",
    "    data = {\n",
    "        '_version_': versioning(config),\n",
    "        'defaults': [\n",
    "            {'model': config.model},\n",
    "            {'label': config.labels}\n",
    "        ]\n",
    "    }\n",
    "    return data"
   ]
  },
  {
   "cell_type": "code",
   "execution_count": 28,
   "metadata": {},
   "outputs": [],
   "source": [
    "datasets = {\n",
    "    'train_paths': train_paths,\n",
    "    'validation_paths': validation_paths,\n",
    "    'test_paths': test_paths\n",
    "}"
   ]
  },
  {
   "cell_type": "code",
   "execution_count": 44,
   "metadata": {},
   "outputs": [],
   "source": [
    "def generate_verion_config_backup(config, datasets):\n",
    "    data = extract_version_config_data(config)\n",
    "    data['datasets'] = datasets\n",
    "    # Convert dictionary to YAML string\n",
    "    yaml_string = yaml.dump(data, default_flow_style=False)\n",
    "    with open('data.yml', 'w') as outfile:\n",
    "        yaml.dump(data, outfile, default_flow_style=False)\n",
    "    return yaml_string"
   ]
  },
  {
   "cell_type": "code",
   "execution_count": 45,
   "metadata": {},
   "outputs": [
    {
     "name": "stdout",
     "output_type": "stream",
     "text": [
      "_version_: prefix_0.0_suffix\n",
      "datasets:\n",
      "  test_paths:\n",
      "  - \"LittleConfig\\test\\\\memory_buffer\\test1\\test-datasets\\file1.csv\"\n",
      "  - \"LittleConfig\\test\\\\memory_buffer\\test1\\test-datasets\\file2.csv\"\n",
      "  train_paths:\n",
      "  - \"LittleConfig\\test\\\\memory_buffer\\test1\\train-datasets\\file1.csv\"\n",
      "  - \"LittleConfig\\test\\\\memory_buffer\\test1\\train-datasets\\file2.csv\"\n",
      "  - \"LittleConfig\\test\\\\memory_buffer\\test1\\train-datasets\\file3.csv\"\n",
      "  validation_paths: null\n",
      "defaults:\n",
      "- model: !!python/object:LittleConfig.Config\n",
      "    _config_dict:\n",
      "      attention_masks: true\n",
      "      input_ids: true\n",
      "      model_name: airesearch/wangchanberta-base-att-spm-uncased\n",
      "      token_type: false\n",
      "      tokenizer: !!python/object:LittleConfig.Config\n",
      "        _config_dict:\n",
      "          _class: AutoTokenizer\n",
      "          pretrain: airesearch/wangchanberta-base-att-spm-uncased\n",
      "- label:\n",
      "  - label1\n",
      "  - label2\n",
      "  - label3\n",
      "  - label4\n",
      "  - label5\n",
      "  - label6\n",
      "  - label7\n",
      "  - label8\n",
      "\n"
     ]
    }
   ],
   "source": [
    "print(generate_verion_config_backup(config, datasets))"
   ]
  },
  {
   "cell_type": "code",
   "execution_count": 48,
   "metadata": {},
   "outputs": [],
   "source": [
    "init_path = r'C:\\Users\\patom\\OneDrive\\Documents\\Repo\\LittleConfig\\LittleConfig\\test'\n",
    "config_path = r'C:\\Users\\patom\\OneDrive\\Documents\\Repo\\LittleConfig\\LittleConfig\\test\\configs'\n",
    "#overrides = {'version': 'test1_GGEZ'}\n",
    "config_manager = LittleConfig(initial_path=init_path,\n",
    "                      config_path=config_path,\n",
    "                      config_name='data',)"
   ]
  },
  {
   "cell_type": "code",
   "execution_count": 49,
   "metadata": {},
   "outputs": [
    {
     "ename": "ConstructorError",
     "evalue": "could not determine a constructor for the tag 'tag:yaml.org,2002:python/object:LittleConfig.Config'\n  in \"C:\\Users\\patom\\OneDrive\\Documents\\Repo\\LittleConfig\\LittleConfig\\test\\data.yaml\", line 12, column 10",
     "output_type": "error",
     "traceback": [
      "\u001b[1;31m---------------------------------------------------------------------------\u001b[0m",
      "\u001b[1;31mConstructorError\u001b[0m                          Traceback (most recent call last)",
      "Cell \u001b[1;32mIn[49], line 1\u001b[0m\n\u001b[1;32m----> 1\u001b[0m \u001b[43mconfig_manager\u001b[49m\u001b[38;5;241;43m.\u001b[39;49m\u001b[43mconfig\u001b[49m\n",
      "File \u001b[1;32mC:\\Program Files\\WindowsApps\\PythonSoftwareFoundation.Python.3.11_3.11.2544.0_x64__qbz5n2kfra8p0\\Lib\\functools.py:1001\u001b[0m, in \u001b[0;36mcached_property.__get__\u001b[1;34m(self, instance, owner)\u001b[0m\n\u001b[0;32m    999\u001b[0m val \u001b[38;5;241m=\u001b[39m cache\u001b[38;5;241m.\u001b[39mget(\u001b[38;5;28mself\u001b[39m\u001b[38;5;241m.\u001b[39mattrname, _NOT_FOUND)\n\u001b[0;32m   1000\u001b[0m \u001b[38;5;28;01mif\u001b[39;00m val \u001b[38;5;129;01mis\u001b[39;00m _NOT_FOUND:\n\u001b[1;32m-> 1001\u001b[0m     val \u001b[38;5;241m=\u001b[39m \u001b[38;5;28;43mself\u001b[39;49m\u001b[38;5;241;43m.\u001b[39;49m\u001b[43mfunc\u001b[49m\u001b[43m(\u001b[49m\u001b[43minstance\u001b[49m\u001b[43m)\u001b[49m\n\u001b[0;32m   1002\u001b[0m     \u001b[38;5;28;01mtry\u001b[39;00m:\n\u001b[0;32m   1003\u001b[0m         cache[\u001b[38;5;28mself\u001b[39m\u001b[38;5;241m.\u001b[39mattrname] \u001b[38;5;241m=\u001b[39m val\n",
      "File \u001b[1;32mc:\\Users\\patom\\OneDrive\\Documents\\Repo\\LittleConfig\\LittleConfig\\LittleConfig.py:91\u001b[0m, in \u001b[0;36mLittleConfig.config\u001b[1;34m(self)\u001b[0m\n\u001b[0;32m     88\u001b[0m \u001b[38;5;129m@cached_property\u001b[39m\n\u001b[0;32m     89\u001b[0m \u001b[38;5;28;01mdef\u001b[39;00m \u001b[38;5;21mconfig\u001b[39m(\u001b[38;5;28mself\u001b[39m):\n\u001b[0;32m     90\u001b[0m     yaml_path \u001b[38;5;241m=\u001b[39m Path(\u001b[38;5;124mf\u001b[39m\u001b[38;5;124m'\u001b[39m\u001b[38;5;132;01m{\u001b[39;00m\u001b[38;5;28mself\u001b[39m\u001b[38;5;241m.\u001b[39minitial_path\u001b[38;5;132;01m}\u001b[39;00m\u001b[38;5;124m/\u001b[39m\u001b[38;5;132;01m{\u001b[39;00m\u001b[38;5;28mself\u001b[39m\u001b[38;5;241m.\u001b[39mconfig_name\u001b[38;5;132;01m}\u001b[39;00m\u001b[38;5;124m.yaml\u001b[39m\u001b[38;5;124m'\u001b[39m)\n\u001b[1;32m---> 91\u001b[0m     config_dict \u001b[38;5;241m=\u001b[39m \u001b[38;5;28;43mself\u001b[39;49m\u001b[38;5;241;43m.\u001b[39;49m\u001b[43m_load_yaml\u001b[49m\u001b[43m(\u001b[49m\u001b[43myaml_path\u001b[49m\u001b[43m)\u001b[49m\n\u001b[0;32m     92\u001b[0m     config_dict \u001b[38;5;241m=\u001b[39m \u001b[38;5;28mself\u001b[39m\u001b[38;5;241m.\u001b[39m_load_defaults(config_dict)\n\u001b[0;32m     93\u001b[0m     config_dict \u001b[38;5;241m=\u001b[39m \u001b[38;5;28mself\u001b[39m\u001b[38;5;241m.\u001b[39m_initialize_config(config_dict)\n",
      "File \u001b[1;32mc:\\Users\\patom\\OneDrive\\Documents\\Repo\\LittleConfig\\LittleConfig\\LittleConfig.py:64\u001b[0m, in \u001b[0;36mLittleConfig._load_yaml\u001b[1;34m(self, yaml_path)\u001b[0m\n\u001b[0;32m     62\u001b[0m \u001b[38;5;28;01mdef\u001b[39;00m \u001b[38;5;21m_load_yaml\u001b[39m(\u001b[38;5;28mself\u001b[39m, yaml_path):\n\u001b[0;32m     63\u001b[0m     \u001b[38;5;28;01mwith\u001b[39;00m \u001b[38;5;28mopen\u001b[39m(yaml_path, \u001b[38;5;124m'\u001b[39m\u001b[38;5;124mr\u001b[39m\u001b[38;5;124m'\u001b[39m) \u001b[38;5;28;01mas\u001b[39;00m file:\n\u001b[1;32m---> 64\u001b[0m         \u001b[38;5;28;01mreturn\u001b[39;00m \u001b[38;5;28mself\u001b[39m\u001b[38;5;241m.\u001b[39m_wrap_in_config(\u001b[43myaml\u001b[49m\u001b[38;5;241;43m.\u001b[39;49m\u001b[43msafe_load\u001b[49m\u001b[43m(\u001b[49m\u001b[43mfile\u001b[49m\u001b[43m)\u001b[49m)\n",
      "File \u001b[1;32mc:\\Users\\patom\\OneDrive\\Documents\\Repo\\LittleConfig\\.venv\\Lib\\site-packages\\yaml\\__init__.py:125\u001b[0m, in \u001b[0;36msafe_load\u001b[1;34m(stream)\u001b[0m\n\u001b[0;32m    117\u001b[0m \u001b[38;5;28;01mdef\u001b[39;00m \u001b[38;5;21msafe_load\u001b[39m(stream):\n\u001b[0;32m    118\u001b[0m \u001b[38;5;250m    \u001b[39m\u001b[38;5;124;03m\"\"\"\u001b[39;00m\n\u001b[0;32m    119\u001b[0m \u001b[38;5;124;03m    Parse the first YAML document in a stream\u001b[39;00m\n\u001b[0;32m    120\u001b[0m \u001b[38;5;124;03m    and produce the corresponding Python object.\u001b[39;00m\n\u001b[1;32m   (...)\u001b[0m\n\u001b[0;32m    123\u001b[0m \u001b[38;5;124;03m    to be safe for untrusted input.\u001b[39;00m\n\u001b[0;32m    124\u001b[0m \u001b[38;5;124;03m    \"\"\"\u001b[39;00m\n\u001b[1;32m--> 125\u001b[0m     \u001b[38;5;28;01mreturn\u001b[39;00m \u001b[43mload\u001b[49m\u001b[43m(\u001b[49m\u001b[43mstream\u001b[49m\u001b[43m,\u001b[49m\u001b[43m \u001b[49m\u001b[43mSafeLoader\u001b[49m\u001b[43m)\u001b[49m\n",
      "File \u001b[1;32mc:\\Users\\patom\\OneDrive\\Documents\\Repo\\LittleConfig\\.venv\\Lib\\site-packages\\yaml\\__init__.py:81\u001b[0m, in \u001b[0;36mload\u001b[1;34m(stream, Loader)\u001b[0m\n\u001b[0;32m     79\u001b[0m loader \u001b[38;5;241m=\u001b[39m Loader(stream)\n\u001b[0;32m     80\u001b[0m \u001b[38;5;28;01mtry\u001b[39;00m:\n\u001b[1;32m---> 81\u001b[0m     \u001b[38;5;28;01mreturn\u001b[39;00m \u001b[43mloader\u001b[49m\u001b[38;5;241;43m.\u001b[39;49m\u001b[43mget_single_data\u001b[49m\u001b[43m(\u001b[49m\u001b[43m)\u001b[49m\n\u001b[0;32m     82\u001b[0m \u001b[38;5;28;01mfinally\u001b[39;00m:\n\u001b[0;32m     83\u001b[0m     loader\u001b[38;5;241m.\u001b[39mdispose()\n",
      "File \u001b[1;32mc:\\Users\\patom\\OneDrive\\Documents\\Repo\\LittleConfig\\.venv\\Lib\\site-packages\\yaml\\constructor.py:51\u001b[0m, in \u001b[0;36mBaseConstructor.get_single_data\u001b[1;34m(self)\u001b[0m\n\u001b[0;32m     49\u001b[0m node \u001b[38;5;241m=\u001b[39m \u001b[38;5;28mself\u001b[39m\u001b[38;5;241m.\u001b[39mget_single_node()\n\u001b[0;32m     50\u001b[0m \u001b[38;5;28;01mif\u001b[39;00m node \u001b[38;5;129;01mis\u001b[39;00m \u001b[38;5;129;01mnot\u001b[39;00m \u001b[38;5;28;01mNone\u001b[39;00m:\n\u001b[1;32m---> 51\u001b[0m     \u001b[38;5;28;01mreturn\u001b[39;00m \u001b[38;5;28;43mself\u001b[39;49m\u001b[38;5;241;43m.\u001b[39;49m\u001b[43mconstruct_document\u001b[49m\u001b[43m(\u001b[49m\u001b[43mnode\u001b[49m\u001b[43m)\u001b[49m\n\u001b[0;32m     52\u001b[0m \u001b[38;5;28;01mreturn\u001b[39;00m \u001b[38;5;28;01mNone\u001b[39;00m\n",
      "File \u001b[1;32mc:\\Users\\patom\\OneDrive\\Documents\\Repo\\LittleConfig\\.venv\\Lib\\site-packages\\yaml\\constructor.py:60\u001b[0m, in \u001b[0;36mBaseConstructor.construct_document\u001b[1;34m(self, node)\u001b[0m\n\u001b[0;32m     58\u001b[0m     \u001b[38;5;28mself\u001b[39m\u001b[38;5;241m.\u001b[39mstate_generators \u001b[38;5;241m=\u001b[39m []\n\u001b[0;32m     59\u001b[0m     \u001b[38;5;28;01mfor\u001b[39;00m generator \u001b[38;5;129;01min\u001b[39;00m state_generators:\n\u001b[1;32m---> 60\u001b[0m \u001b[43m        \u001b[49m\u001b[38;5;28;43;01mfor\u001b[39;49;00m\u001b[43m \u001b[49m\u001b[43mdummy\u001b[49m\u001b[43m \u001b[49m\u001b[38;5;129;43;01min\u001b[39;49;00m\u001b[43m \u001b[49m\u001b[43mgenerator\u001b[49m\u001b[43m:\u001b[49m\n\u001b[0;32m     61\u001b[0m \u001b[43m            \u001b[49m\u001b[38;5;28;43;01mpass\u001b[39;49;00m\n\u001b[0;32m     62\u001b[0m \u001b[38;5;28mself\u001b[39m\u001b[38;5;241m.\u001b[39mconstructed_objects \u001b[38;5;241m=\u001b[39m {}\n",
      "File \u001b[1;32mc:\\Users\\patom\\OneDrive\\Documents\\Repo\\LittleConfig\\.venv\\Lib\\site-packages\\yaml\\constructor.py:413\u001b[0m, in \u001b[0;36mSafeConstructor.construct_yaml_map\u001b[1;34m(self, node)\u001b[0m\n\u001b[0;32m    411\u001b[0m data \u001b[38;5;241m=\u001b[39m {}\n\u001b[0;32m    412\u001b[0m \u001b[38;5;28;01myield\u001b[39;00m data\n\u001b[1;32m--> 413\u001b[0m value \u001b[38;5;241m=\u001b[39m \u001b[38;5;28;43mself\u001b[39;49m\u001b[38;5;241;43m.\u001b[39;49m\u001b[43mconstruct_mapping\u001b[49m\u001b[43m(\u001b[49m\u001b[43mnode\u001b[49m\u001b[43m)\u001b[49m\n\u001b[0;32m    414\u001b[0m data\u001b[38;5;241m.\u001b[39mupdate(value)\n",
      "File \u001b[1;32mc:\\Users\\patom\\OneDrive\\Documents\\Repo\\LittleConfig\\.venv\\Lib\\site-packages\\yaml\\constructor.py:218\u001b[0m, in \u001b[0;36mSafeConstructor.construct_mapping\u001b[1;34m(self, node, deep)\u001b[0m\n\u001b[0;32m    216\u001b[0m \u001b[38;5;28;01mif\u001b[39;00m \u001b[38;5;28misinstance\u001b[39m(node, MappingNode):\n\u001b[0;32m    217\u001b[0m     \u001b[38;5;28mself\u001b[39m\u001b[38;5;241m.\u001b[39mflatten_mapping(node)\n\u001b[1;32m--> 218\u001b[0m \u001b[38;5;28;01mreturn\u001b[39;00m \u001b[38;5;28;43msuper\u001b[39;49m\u001b[43m(\u001b[49m\u001b[43m)\u001b[49m\u001b[38;5;241;43m.\u001b[39;49m\u001b[43mconstruct_mapping\u001b[49m\u001b[43m(\u001b[49m\u001b[43mnode\u001b[49m\u001b[43m,\u001b[49m\u001b[43m \u001b[49m\u001b[43mdeep\u001b[49m\u001b[38;5;241;43m=\u001b[39;49m\u001b[43mdeep\u001b[49m\u001b[43m)\u001b[49m\n",
      "File \u001b[1;32mc:\\Users\\patom\\OneDrive\\Documents\\Repo\\LittleConfig\\.venv\\Lib\\site-packages\\yaml\\constructor.py:143\u001b[0m, in \u001b[0;36mBaseConstructor.construct_mapping\u001b[1;34m(self, node, deep)\u001b[0m\n\u001b[0;32m    140\u001b[0m     \u001b[38;5;28;01mif\u001b[39;00m \u001b[38;5;129;01mnot\u001b[39;00m \u001b[38;5;28misinstance\u001b[39m(key, collections\u001b[38;5;241m.\u001b[39mabc\u001b[38;5;241m.\u001b[39mHashable):\n\u001b[0;32m    141\u001b[0m         \u001b[38;5;28;01mraise\u001b[39;00m ConstructorError(\u001b[38;5;124m\"\u001b[39m\u001b[38;5;124mwhile constructing a mapping\u001b[39m\u001b[38;5;124m\"\u001b[39m, node\u001b[38;5;241m.\u001b[39mstart_mark,\n\u001b[0;32m    142\u001b[0m                 \u001b[38;5;124m\"\u001b[39m\u001b[38;5;124mfound unhashable key\u001b[39m\u001b[38;5;124m\"\u001b[39m, key_node\u001b[38;5;241m.\u001b[39mstart_mark)\n\u001b[1;32m--> 143\u001b[0m     value \u001b[38;5;241m=\u001b[39m \u001b[38;5;28;43mself\u001b[39;49m\u001b[38;5;241;43m.\u001b[39;49m\u001b[43mconstruct_object\u001b[49m\u001b[43m(\u001b[49m\u001b[43mvalue_node\u001b[49m\u001b[43m,\u001b[49m\u001b[43m \u001b[49m\u001b[43mdeep\u001b[49m\u001b[38;5;241;43m=\u001b[39;49m\u001b[43mdeep\u001b[49m\u001b[43m)\u001b[49m\n\u001b[0;32m    144\u001b[0m     mapping[key] \u001b[38;5;241m=\u001b[39m value\n\u001b[0;32m    145\u001b[0m \u001b[38;5;28;01mreturn\u001b[39;00m mapping\n",
      "File \u001b[1;32mc:\\Users\\patom\\OneDrive\\Documents\\Repo\\LittleConfig\\.venv\\Lib\\site-packages\\yaml\\constructor.py:100\u001b[0m, in \u001b[0;36mBaseConstructor.construct_object\u001b[1;34m(self, node, deep)\u001b[0m\n\u001b[0;32m     98\u001b[0m             constructor \u001b[38;5;241m=\u001b[39m \u001b[38;5;28mself\u001b[39m\u001b[38;5;241m.\u001b[39m\u001b[38;5;18m__class__\u001b[39m\u001b[38;5;241m.\u001b[39mconstruct_mapping\n\u001b[0;32m     99\u001b[0m \u001b[38;5;28;01mif\u001b[39;00m tag_suffix \u001b[38;5;129;01mis\u001b[39;00m \u001b[38;5;28;01mNone\u001b[39;00m:\n\u001b[1;32m--> 100\u001b[0m     data \u001b[38;5;241m=\u001b[39m \u001b[43mconstructor\u001b[49m\u001b[43m(\u001b[49m\u001b[38;5;28;43mself\u001b[39;49m\u001b[43m,\u001b[49m\u001b[43m \u001b[49m\u001b[43mnode\u001b[49m\u001b[43m)\u001b[49m\n\u001b[0;32m    101\u001b[0m \u001b[38;5;28;01melse\u001b[39;00m:\n\u001b[0;32m    102\u001b[0m     data \u001b[38;5;241m=\u001b[39m constructor(\u001b[38;5;28mself\u001b[39m, tag_suffix, node)\n",
      "File \u001b[1;32mc:\\Users\\patom\\OneDrive\\Documents\\Repo\\LittleConfig\\.venv\\Lib\\site-packages\\yaml\\constructor.py:427\u001b[0m, in \u001b[0;36mSafeConstructor.construct_undefined\u001b[1;34m(self, node)\u001b[0m\n\u001b[0;32m    426\u001b[0m \u001b[38;5;28;01mdef\u001b[39;00m \u001b[38;5;21mconstruct_undefined\u001b[39m(\u001b[38;5;28mself\u001b[39m, node):\n\u001b[1;32m--> 427\u001b[0m     \u001b[38;5;28;01mraise\u001b[39;00m ConstructorError(\u001b[38;5;28;01mNone\u001b[39;00m, \u001b[38;5;28;01mNone\u001b[39;00m,\n\u001b[0;32m    428\u001b[0m             \u001b[38;5;124m\"\u001b[39m\u001b[38;5;124mcould not determine a constructor for the tag \u001b[39m\u001b[38;5;132;01m%r\u001b[39;00m\u001b[38;5;124m\"\u001b[39m \u001b[38;5;241m%\u001b[39m node\u001b[38;5;241m.\u001b[39mtag,\n\u001b[0;32m    429\u001b[0m             node\u001b[38;5;241m.\u001b[39mstart_mark)\n",
      "\u001b[1;31mConstructorError\u001b[0m: could not determine a constructor for the tag 'tag:yaml.org,2002:python/object:LittleConfig.Config'\n  in \"C:\\Users\\patom\\OneDrive\\Documents\\Repo\\LittleConfig\\LittleConfig\\test\\data.yaml\", line 12, column 10"
     ]
    }
   ],
   "source": [
    "config_manager.config"
   ]
  },
  {
   "cell_type": "code",
   "execution_count": 24,
   "metadata": {},
   "outputs": [],
   "source": [
    "def print_info(config):\n",
    "    \n",
    "    #config = self.config\n",
    "    print(f'------- CONFIGURATION INFORMATION {datetime.now()} -------')\n",
    "    print(f'Current Version: {versioning(config)}')\n",
    "    print(f'Mode: {config.mode}')\n",
    "    print(f'Method: {config.method}')\n",
    "    #print(f'Cold Start: {coldstart_check_wg.value}')\n",
    "    print(f'Epochs: {config.training_config.epochs}')\n",
    "    print(f'Patience: {config.training_config.patience}')\n",
    "    print(f'Models: {config.model.model_name}')\n",
    "    print(f'Max Length: {config.training_config.max_length}')\n",
    "    print(f'Tokenizer Class: {config.model.tokenizer._class}')\n",
    "    print(f'Pretrained Tokenizer: {config.model.tokenizer.pretrain}')\n",
    "    print('-------')\n",
    "\n",
    "    print(f'Batch Size: {config.training_config.batch_size}')\n",
    "    print(f'Val Size: {config.training_config.val_size}')\n",
    "    print(f'lr: {config.training_config.lr}')\n",
    "    print(f'weight_decay_rate_0: {config.training_config.weight_decay_rate_0}')\n",
    "    print(f'weight_decay_rate_1: {config.training_config.weight_decay_rate_1}')\n",
    "    print('-------')\n",
    "\n",
    "    train_path = Path(config.datasets.train_path).name if config.method == 'non-memory-replay' else Path(*Path(config.memory_replay.train_path).parts[-5:])\n",
    "    test_path = Path(config.datasets.test_path).name if config.method == 'non-memory-replay' else Path(*Path(config.memory_replay.test_path).parts[-5:])\n",
    "\n",
    "    print(f'Train Dataset: {train_path}')\n",
    "    print(f'Test Dataset: {test_path}')\n",
    "    #print(f'Labels Config: {config.mapper.title}')\n",
    "    print(f'Num Labels: {len(config.labels)}')\n",
    "    print('-------')\n",
    "\n",
    "    print(f'save_pretrained_path: {project_version_path(config)}/pretrained')\n",
    "    print(f'save_best_model_path: {project_version_path(config)}')"
   ]
  },
  {
   "cell_type": "code",
   "execution_count": 25,
   "metadata": {},
   "outputs": [
    {
     "name": "stdout",
     "output_type": "stream",
     "text": [
      "------- CONFIGURATION INFORMATION 2024-05-28 14:31:39.943699 -------\n",
      "Current Version: prefix_0.0_suffix\n",
      "Mode: train\n",
      "Method: memory-replay\n",
      "Epochs: 10\n",
      "Patience: 3\n",
      "Models: airesearch/wangchanberta-base-att-spm-uncased\n",
      "Max Length: 200\n",
      "Tokenizer Class: AutoTokenizer\n",
      "Pretrained Tokenizer: airesearch/wangchanberta-base-att-spm-uncased\n",
      "-------\n",
      "Batch Size: 64\n",
      "Val Size: 0.2\n",
      "lr: 2e-5\n",
      "weight_decay_rate_0: 0.01\n",
      "weight_decay_rate_1: 0.0\n",
      "-------\n",
      "Train Dataset: LittleConfig\\test\\memory_buffer\\test1\\train-datasets\n",
      "Test Dataset: LittleConfig\\test\\memory_buffer\\test1\\test-datasets\n",
      "Num Labels: 8\n",
      "-------\n",
      "save_pretrained_path: C:\\Users\\patom\\OneDrive\\Documents\\Repo\\LittleConfig\\LittleConfig\\test\\projects\\ml-test1/pretrained\n",
      "save_best_model_path: C:\\Users\\patom\\OneDrive\\Documents\\Repo\\LittleConfig\\LittleConfig\\test\\projects\\ml-test1\n"
     ]
    }
   ],
   "source": [
    "print_info(config)"
   ]
  },
  {
   "cell_type": "code",
   "execution_count": 16,
   "metadata": {},
   "outputs": [
    {
     "ename": "AttributeError",
     "evalue": "'Config' object has no attribute 'gg'",
     "output_type": "error",
     "traceback": [
      "\u001b[1;31m---------------------------------------------------------------------------\u001b[0m",
      "\u001b[1;31mAttributeError\u001b[0m                            Traceback (most recent call last)",
      "Cell \u001b[1;32mIn[16], line 1\u001b[0m\n\u001b[1;32m----> 1\u001b[0m \u001b[43mconfig\u001b[49m\u001b[38;5;241;43m.\u001b[39;49m\u001b[43mgg\u001b[49m\n",
      "File \u001b[1;32mc:\\Users\\patom\\OneDrive\\Documents\\Repo\\LittleConfig\\LittleConfig\\LittleConfig.py:12\u001b[0m, in \u001b[0;36mConfig.__getattr__\u001b[1;34m(self, name)\u001b[0m\n\u001b[0;32m     10\u001b[0m \u001b[38;5;28;01mif\u001b[39;00m name \u001b[38;5;129;01min\u001b[39;00m \u001b[38;5;28mself\u001b[39m\u001b[38;5;241m.\u001b[39m_config_dict:\n\u001b[0;32m     11\u001b[0m     \u001b[38;5;28;01mreturn\u001b[39;00m \u001b[38;5;28mself\u001b[39m\u001b[38;5;241m.\u001b[39m_config_dict[name]\n\u001b[1;32m---> 12\u001b[0m \u001b[38;5;28;01mraise\u001b[39;00m \u001b[38;5;167;01mAttributeError\u001b[39;00m(\u001b[38;5;124mf\u001b[39m\u001b[38;5;124m\"\u001b[39m\u001b[38;5;124m'\u001b[39m\u001b[38;5;124mConfig\u001b[39m\u001b[38;5;124m'\u001b[39m\u001b[38;5;124m object has no attribute \u001b[39m\u001b[38;5;124m'\u001b[39m\u001b[38;5;132;01m{\u001b[39;00mname\u001b[38;5;132;01m}\u001b[39;00m\u001b[38;5;124m'\u001b[39m\u001b[38;5;124m\"\u001b[39m)\n",
      "\u001b[1;31mAttributeError\u001b[0m: 'Config' object has no attribute 'gg'"
     ]
    }
   ],
   "source": [
    "config.gg"
   ]
  },
  {
   "cell_type": "code",
   "execution_count": 4,
   "metadata": {},
   "outputs": [
    {
     "data": {
      "text/plain": [
       "{'class_weights': {'alpha': 1},\n",
       " 'normalize_weights': {'scaling_factor': 333, 'bobo': 888, 'bebe': 777},\n",
       " 'ggez': 888}"
      ]
     },
     "execution_count": 4,
     "metadata": {},
     "output_type": "execute_result"
    }
   ],
   "source": [
    "from LittleConfig import LittleConfig\n",
    "\n",
    "# Example usage\n",
    "weight_parameters = {\n",
    "    'class_weights': {\n",
    "        'alpha': 1,  # .pow(alpha)\n",
    "    },\n",
    "    'normalize_weights': {\n",
    "        'scaling_factor': 1,\n",
    "        'bobo': 888,\n",
    "    },\n",
    "    'ggez': 999,\n",
    "}\n",
    "\n",
    "updated = {\n",
    "    'normalize_weights': {\n",
    "        'scaling_factor': 333,\n",
    "        'bebe': 777,\n",
    "    },\n",
    "    'ggez': 888,\n",
    "}\n",
    "\n",
    "weight_config = LittleConfig(weight_parameters).config\n",
    "updated = LittleConfig(updated).config\n",
    "weight_config.recursive_update(updated)"
   ]
  },
  {
   "cell_type": "code",
   "execution_count": 2,
   "metadata": {},
   "outputs": [
    {
     "data": {
      "text/plain": [
       "{'scaling_factor': 333, 'bobo': 888, 'bebe': 777}"
      ]
     },
     "execution_count": 2,
     "metadata": {},
     "output_type": "execute_result"
    }
   ],
   "source": [
    "weight_config.normalize_weights"
   ]
  }
 ],
 "metadata": {
  "kernelspec": {
   "display_name": ".venv",
   "language": "python",
   "name": "python3"
  },
  "language_info": {
   "codemirror_mode": {
    "name": "ipython",
    "version": 3
   },
   "file_extension": ".py",
   "mimetype": "text/x-python",
   "name": "python",
   "nbconvert_exporter": "python",
   "pygments_lexer": "ipython3",
   "version": "3.12.3"
  }
 },
 "nbformat": 4,
 "nbformat_minor": 2
}
