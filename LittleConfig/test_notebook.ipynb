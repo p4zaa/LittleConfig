{
 "cells": [
  {
   "cell_type": "code",
   "execution_count": 1,
   "metadata": {},
   "outputs": [],
   "source": [
    "from pathlib import Path\n",
    "from LittleConfig import LittleConfig"
   ]
  },
  {
   "cell_type": "code",
   "execution_count": 2,
   "metadata": {},
   "outputs": [],
   "source": [
    "init_path = '/Users/pa/Documents/GitHub Repository Clone/LittleConfig/LittleConfig/test'\n",
    "config_path = '/Users/pa/Documents/GitHub Repository Clone/LittleConfig/LittleConfig/test/configs'\n",
    "overrides = {'version': 'test1_GGEZ'}\n",
    "config = LittleConfig(initial_path=init_path,\n",
    "                      config_path=config_path,\n",
    "                      config_name='test-static-file',\n",
    "                      overrides=overrides)"
   ]
  },
  {
   "cell_type": "code",
   "execution_count": 5,
   "metadata": {},
   "outputs": [
    {
     "data": {
      "text/plain": [
       "{'_config_id_': 'GGEZ', '_version_id_': 'GGEZ123', 'version': 'test1_GGEZ', 'labels': {'info': 'labels-for-test-1', 'labels': ['label1', 'label2', 'label3', 'label4', 'label5', 'label6', 'label7', 'label8']}, 'memory_replay': {'train_path': 'LittleConfig/test/memory_buffer/test1/train-datasets', 'test_path': 'LittleConfig/test/memory_buffer/test1/test-datasets'}}"
      ]
     },
     "execution_count": 5,
     "metadata": {},
     "output_type": "execute_result"
    }
   ],
   "source": [
    "config.config"
   ]
  },
  {
   "cell_type": "code",
   "execution_count": 6,
   "metadata": {},
   "outputs": [
    {
     "data": {
      "text/plain": [
       "{'info': 'labels-for-test-1', 'labels': ['label1', 'label2', 'label3', 'label4', 'label5', 'label6', 'label7', 'label8']}"
      ]
     },
     "execution_count": 6,
     "metadata": {},
     "output_type": "execute_result"
    }
   ],
   "source": [
    "config.config.labels"
   ]
  },
  {
   "cell_type": "code",
   "execution_count": 7,
   "metadata": {},
   "outputs": [
    {
     "data": {
      "text/plain": [
       "{'train_path': 'LittleConfig/test/memory_buffer/test1/train-datasets', 'test_path': 'LittleConfig/test/memory_buffer/test1/test-datasets'}"
      ]
     },
     "execution_count": 7,
     "metadata": {},
     "output_type": "execute_result"
    }
   ],
   "source": [
    "config.config.memory_replay"
   ]
  }
 ],
 "metadata": {
  "kernelspec": {
   "display_name": ".venv",
   "language": "python",
   "name": "python3"
  },
  "language_info": {
   "codemirror_mode": {
    "name": "ipython",
    "version": 3
   },
   "file_extension": ".py",
   "mimetype": "text/x-python",
   "name": "python",
   "nbconvert_exporter": "python",
   "pygments_lexer": "ipython3",
   "version": "3.12.3"
  }
 },
 "nbformat": 4,
 "nbformat_minor": 2
}
