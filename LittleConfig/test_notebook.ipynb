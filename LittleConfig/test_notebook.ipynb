{
 "cells": [
  {
   "cell_type": "code",
   "execution_count": 9,
   "metadata": {},
   "outputs": [],
   "source": [
    "from pathlib import Path\n",
    "from LittleConfig import LittleConfig\n",
    "from datetime import datetime"
   ]
  },
  {
   "cell_type": "code",
   "execution_count": 2,
   "metadata": {},
   "outputs": [],
   "source": [
    "init_path = '/Users/pa/Documents/GitHub Repository Clone/LittleConfig/LittleConfig/test'\n",
    "config_path = '/Users/pa/Documents/GitHub Repository Clone/LittleConfig/LittleConfig/test/configs'\n",
    "overrides = {'version': 'test1_GGEZ'}\n",
    "config = LittleConfig(initial_path=init_path,\n",
    "                      config_path=config_path,\n",
    "                      config_name='test-static-file2',\n",
    "                      overrides=overrides)"
   ]
  },
  {
   "cell_type": "code",
   "execution_count": 3,
   "metadata": {},
   "outputs": [
    {
     "data": {
      "text/plain": [
       "{'_id': 'LITTLEBAZOO', 'version': 'test1_GGEZ', 'labels': {'info': 'labels-for-test-1', 'labels': ['label1', 'label2', 'label3', 'label4', 'label5', 'label6', 'label7', 'label8']}, 'memory_replay': {'train_path': 'LittleConfig/test/memory_buffer/test1/train-datasets', 'test_path': 'LittleConfig/test/memory_buffer/test1/test-datasets'}}"
      ]
     },
     "execution_count": 3,
     "metadata": {},
     "output_type": "execute_result"
    }
   ],
   "source": [
    "config.config"
   ]
  },
  {
   "cell_type": "code",
   "execution_count": 4,
   "metadata": {},
   "outputs": [
    {
     "data": {
      "text/plain": [
       "{'info': 'labels-for-test-1', 'labels': ['label1', 'label2', 'label3', 'label4', 'label5', 'label6', 'label7', 'label8']}"
      ]
     },
     "execution_count": 4,
     "metadata": {},
     "output_type": "execute_result"
    }
   ],
   "source": [
    "config.config.labels"
   ]
  },
  {
   "cell_type": "code",
   "execution_count": 5,
   "metadata": {},
   "outputs": [
    {
     "data": {
      "text/plain": [
       "{'train_path': 'LittleConfig/test/memory_buffer/test1/train-datasets', 'test_path': 'LittleConfig/test/memory_buffer/test1/test-datasets'}"
      ]
     },
     "execution_count": 5,
     "metadata": {},
     "output_type": "execute_result"
    }
   ],
   "source": [
    "config.config.memory_replay"
   ]
  },
  {
   "cell_type": "code",
   "execution_count": 12,
   "metadata": {},
   "outputs": [
    {
     "name": "stderr",
     "output_type": "stream",
     "text": [
      "<>:37: SyntaxWarning: invalid escape sequence '\\ '\n",
      "<>:37: SyntaxWarning: invalid escape sequence '\\ '\n",
      "/var/folders/vw/6tt7f3_13jq3jjdj8bmqf0s80000gn/T/ipykernel_3695/3845109470.py:37: SyntaxWarning: invalid escape sequence '\\ '\n",
      "  print('/!\\ Please carefully check from_pretrained_path in transfer mode.')\n"
     ]
    }
   ],
   "source": [
    "def print_info(config):\n",
    "    #config = self.config\n",
    "    print(f'------- CONFIGURATION INFORMATION {datetime.now()} -------')\n",
    "    print(f'Current Version: {config.title + \"_\" + config.version}')\n",
    "    print(f'Mode: {config.mode}')\n",
    "    print(f'Method: {config.method}')\n",
    "    #print(f'Cold Start: {coldstart_check_wg.value}')\n",
    "    print(f'Epochs: {config.epochs}')\n",
    "    print(f'Patience: {config.patience}')\n",
    "    print(f'Models: {config.models.model_name}')\n",
    "    print(f'Max Length: {config.models.max_length}')\n",
    "    print(f'Tokenizer Class: {config.models.tokenizer._class}')\n",
    "    print(f'Pretrained Tokenizer: {config.models.tokenizer.pretrain}')\n",
    "    print('-------')\n",
    "\n",
    "    print(f'Batch Size: {config.batch_size}')\n",
    "    print(f'Val Size: {config.ratio.val_size}')\n",
    "    print(f'lr: {config.parameters.lr}')\n",
    "    print(f'weight_decay_rate_0: {config.parameters.weight_decay_rate_0}')\n",
    "    print(f'weight_decay_rate_1: {config.parameters.weight_decay_rate_1}')\n",
    "    print('-------')\n",
    "\n",
    "    train_path = Path(config.datasets.train_path).name if config.method == 'non-memory-replay' else Path(*Path(config.memory_replay.memory_buffer.train_path).parts[-5:])\n",
    "    test_path = Path(config.datasets.test_path).name if config.method == 'non-memory-replay' else Path(*Path(config.memory_replay.memory_buffer.test_path).parts[-5:])\n",
    "\n",
    "    print(f'Train Dataset: {train_path}')\n",
    "    print(f'Test Dataset: {test_path}')\n",
    "    print(f'Labels Config: {config.mapper.title}')\n",
    "    print(f'Num Labels: {len(config.labels)}')\n",
    "    print('-------')\n",
    "\n",
    "    if config.mode == 'fine-tune':\n",
    "        print(f'from_pretrained_path: {config.fine_tune.from_pretrained_path}')\n",
    "        print(f'save_best_model_path: {config.fine_tune.save_best_model_path}')\n",
    "\n",
    "    elif config.mode == 'transfer':\n",
    "        print('/!\\ Please carefully check from_pretrained_path in transfer mode.')\n",
    "        print(f'from_pretrained_path: {config.transfer.from_pretrained_path}')\n",
    "        print(f'save_best_model_path: {config.transfer.save_best_model_path}')\n",
    "\n",
    "        print(f'\\n⋆✨⋆✨⋆✨⋆ Transfer Learning Procedure ⋆✨⋆✨⋆✨⋆')\n",
    "        print(f'From {Path(*Path(config.transfer.from_pretrained_path).parts[-3:])} -[transfer to]-> {config.title + \"_\" + config.version}')\n",
    "\n",
    "    else:\n",
    "        print(f'save_best_model_path: {config.fine_tune.save_best_model_path}')"
   ]
  },
  {
   "cell_type": "code",
   "execution_count": 13,
   "metadata": {},
   "outputs": [
    {
     "name": "stdout",
     "output_type": "stream",
     "text": [
      "------- CONFIGURATION INFORMATION 2024-05-28 02:01:40.650632 -------\n"
     ]
    },
    {
     "name": "stderr",
     "output_type": "stream",
     "text": [
      "/var/folders/vw/6tt7f3_13jq3jjdj8bmqf0s80000gn/T/ipykernel_3695/3845109470.py:37: SyntaxWarning: invalid escape sequence '\\ '\n",
      "  print('/!\\ Please carefully check from_pretrained_path in transfer mode.')\n"
     ]
    },
    {
     "ename": "AttributeError",
     "evalue": "'Config' object has no attribute 'title'",
     "output_type": "error",
     "traceback": [
      "\u001b[0;31m---------------------------------------------------------------------------\u001b[0m",
      "\u001b[0;31mAttributeError\u001b[0m                            Traceback (most recent call last)",
      "Cell \u001b[0;32mIn[13], line 1\u001b[0m\n\u001b[0;32m----> 1\u001b[0m \u001b[43mprint_info\u001b[49m\u001b[43m(\u001b[49m\u001b[43mconfig\u001b[49m\u001b[38;5;241;43m.\u001b[39;49m\u001b[43mconfig\u001b[49m\u001b[43m)\u001b[49m\n",
      "Cell \u001b[0;32mIn[12], line 4\u001b[0m, in \u001b[0;36mprint_info\u001b[0;34m(config)\u001b[0m\n\u001b[1;32m      1\u001b[0m \u001b[38;5;28;01mdef\u001b[39;00m \u001b[38;5;21mprint_info\u001b[39m(config):\n\u001b[1;32m      2\u001b[0m     \u001b[38;5;66;03m#config = self.config\u001b[39;00m\n\u001b[1;32m      3\u001b[0m     \u001b[38;5;28mprint\u001b[39m(\u001b[38;5;124mf\u001b[39m\u001b[38;5;124m'\u001b[39m\u001b[38;5;124m------- CONFIGURATION INFORMATION \u001b[39m\u001b[38;5;132;01m{\u001b[39;00mdatetime\u001b[38;5;241m.\u001b[39mnow()\u001b[38;5;132;01m}\u001b[39;00m\u001b[38;5;124m -------\u001b[39m\u001b[38;5;124m'\u001b[39m)\n\u001b[0;32m----> 4\u001b[0m     \u001b[38;5;28mprint\u001b[39m(\u001b[38;5;124mf\u001b[39m\u001b[38;5;124m'\u001b[39m\u001b[38;5;124mCurrent Version: \u001b[39m\u001b[38;5;132;01m{\u001b[39;00m\u001b[43mconfig\u001b[49m\u001b[38;5;241;43m.\u001b[39;49m\u001b[43mtitle\u001b[49m\u001b[38;5;250m \u001b[39m\u001b[38;5;241m+\u001b[39m\u001b[38;5;250m \u001b[39m\u001b[38;5;124m\"\u001b[39m\u001b[38;5;124m_\u001b[39m\u001b[38;5;124m\"\u001b[39m\u001b[38;5;250m \u001b[39m\u001b[38;5;241m+\u001b[39m\u001b[38;5;250m \u001b[39mconfig\u001b[38;5;241m.\u001b[39mversion\u001b[38;5;132;01m}\u001b[39;00m\u001b[38;5;124m'\u001b[39m)\n\u001b[1;32m      5\u001b[0m     \u001b[38;5;28mprint\u001b[39m(\u001b[38;5;124mf\u001b[39m\u001b[38;5;124m'\u001b[39m\u001b[38;5;124mMode: \u001b[39m\u001b[38;5;132;01m{\u001b[39;00mconfig\u001b[38;5;241m.\u001b[39mmode\u001b[38;5;132;01m}\u001b[39;00m\u001b[38;5;124m'\u001b[39m)\n\u001b[1;32m      6\u001b[0m     \u001b[38;5;28mprint\u001b[39m(\u001b[38;5;124mf\u001b[39m\u001b[38;5;124m'\u001b[39m\u001b[38;5;124mMethod: \u001b[39m\u001b[38;5;132;01m{\u001b[39;00mconfig\u001b[38;5;241m.\u001b[39mmethod\u001b[38;5;132;01m}\u001b[39;00m\u001b[38;5;124m'\u001b[39m)\n",
      "File \u001b[0;32m~/Documents/GitHub Repository Clone/LittleConfig/LittleConfig/LittleConfig.py:12\u001b[0m, in \u001b[0;36mConfig.__getattr__\u001b[0;34m(self, name)\u001b[0m\n\u001b[1;32m     10\u001b[0m \u001b[38;5;28;01mif\u001b[39;00m name \u001b[38;5;129;01min\u001b[39;00m \u001b[38;5;28mself\u001b[39m\u001b[38;5;241m.\u001b[39m_config_dict:\n\u001b[1;32m     11\u001b[0m     \u001b[38;5;28;01mreturn\u001b[39;00m \u001b[38;5;28mself\u001b[39m\u001b[38;5;241m.\u001b[39m_config_dict[name]\n\u001b[0;32m---> 12\u001b[0m \u001b[38;5;28;01mraise\u001b[39;00m \u001b[38;5;167;01mAttributeError\u001b[39;00m(\u001b[38;5;124mf\u001b[39m\u001b[38;5;124m\"\u001b[39m\u001b[38;5;124m'\u001b[39m\u001b[38;5;124mConfig\u001b[39m\u001b[38;5;124m'\u001b[39m\u001b[38;5;124m object has no attribute \u001b[39m\u001b[38;5;124m'\u001b[39m\u001b[38;5;132;01m{\u001b[39;00mname\u001b[38;5;132;01m}\u001b[39;00m\u001b[38;5;124m'\u001b[39m\u001b[38;5;124m\"\u001b[39m)\n",
      "\u001b[0;31mAttributeError\u001b[0m: 'Config' object has no attribute 'title'"
     ]
    }
   ],
   "source": [
    "print_info(config.config)"
   ]
  }
 ],
 "metadata": {
  "kernelspec": {
   "display_name": ".venv",
   "language": "python",
   "name": "python3"
  },
  "language_info": {
   "codemirror_mode": {
    "name": "ipython",
    "version": 3
   },
   "file_extension": ".py",
   "mimetype": "text/x-python",
   "name": "python",
   "nbconvert_exporter": "python",
   "pygments_lexer": "ipython3",
   "version": "3.12.3"
  }
 },
 "nbformat": 4,
 "nbformat_minor": 2
}
